{
 "cells": [
  {
   "cell_type": "code",
   "execution_count": 6,
   "id": "69026c55-6db6-4929-a694-ba7bef898c72",
   "metadata": {},
   "outputs": [],
   "source": [
    "import requests\n",
    "import pandas as pd\n",
    "from statsmodels.tsa.holtwinters import ExponentialSmoothing, SimpleExpSmoothing\n",
    "import numpy as np\n",
    "\n",
    "\n"
   ]
  },
  {
   "cell_type": "code",
   "execution_count": 3,
   "id": "41be5e40-88de-4b45-89a2-def2c965e522",
   "metadata": {},
   "outputs": [],
   "source": [
    " def get_token():\n",
    "        with open(\".token\") as t:\n",
    "            tok = t.readline()\n",
    "        return tok.strip()"
   ]
  },
  {
   "cell_type": "code",
   "execution_count": 10,
   "id": "08533b0b-6b6a-4ab8-9ae3-ca5d720f1b4c",
   "metadata": {},
   "outputs": [],
   "source": [
    "def temp_prediction(days_in_future: int, lat: float, long: float):\n",
    "    # fetch data \n",
    "    dataset = 'prismc-tmax-daily'\n",
    "    my_token = get_token() #'REDACTED'\n",
    "\n",
    "    my_url = 'https://api.dclimate.net/apiv3/grid-history/' + dataset + '/' + str(lat) + '_' + str(long)\n",
    "    head = {\"Authorization\": my_token}\n",
    "    \n",
    "    print(\"Downloading...\")\n",
    "    r = requests.get(my_url, headers=head)\n",
    "    data = r.json()[\"data\"]\n",
    "    \n",
    "    print(\"Preprocessing...\")\n",
    "    index = pd.to_datetime(list(data.keys()))\n",
    "    values = [float(s.split()[0]) if s else None for s in data.values()]\n",
    "    series = pd.Series(values, index=index)\n",
    "    df = series.to_frame(name='Value')\n",
    "    df = df[~df.index.astype(str).str.contains('02-29')]\n",
    "\n",
    "    # algorithm \n",
    "    print(\"Fitting the model\")\n",
    "    hw_model = ExponentialSmoothing(df[\"Value\"],\n",
    "                                    trend=\"add\",\n",
    "                                    seasonal=\"add\",\n",
    "                                    seasonal_periods=365,\n",
    "                                    damped=False).fit() #use_boxcox='log'\n",
    "\n",
    "    hw_fitted = hw_model.fittedvalues\n",
    "\n",
    "    hw_resid = hw_model.resid\n",
    "\n",
    "    # Adding the mean of the residuals to correct the bias.\n",
    "    print(\"Forecasting...\")\n",
    "    py_hw = hw_model.forecast(days_in_future) + np.mean(hw_resid)\n",
    "\n",
    "    # output\n",
    "    return (py_hw.values[-1])\n",
    "\n"
   ]
  },
  {
   "cell_type": "code",
   "execution_count": 3,
   "id": "4fc2ac1f-d913-4fd2-b30c-172789ba289b",
   "metadata": {},
   "outputs": [],
   "source": [
    "nb_days = 10\n",
    "results_exponential = {}\n",
    "results_linear = {}"
   ]
  },
  {
   "cell_type": "code",
   "execution_count": 4,
   "id": "16acaa7a-971a-4371-b0cd-fb26f92281f5",
   "metadata": {},
   "outputs": [],
   "source": [
    "towns = {\n",
    "    \"Miami\": [25.762329613614614, -80.19114735100034],\n",
    "    \"New York\": [40.64136425563865, -73.78201731266307],\n",
    "    \"Las Vegas\": [36.169819817986365, -115.14034125787191]\n",
    "}\n"
   ]
  },
  {
   "cell_type": "code",
   "execution_count": 13,
   "id": "f55fd7df-c3df-4a24-95e2-c36ed159f112",
   "metadata": {},
   "outputs": [
    {
     "name": "stdout",
     "output_type": "stream",
     "text": [
      "Downloading...\n",
      "Preprocessing...\n",
      "Fitting the model\n"
     ]
    },
    {
     "name": "stderr",
     "output_type": "stream",
     "text": [
      "/home/bm7/.local/lib/python3.7/site-packages/ipykernel_launcher.py:26: FutureWarning: the 'damped' keyword is deprecated, use 'damped_trend' instead\n",
      "/home/bm7/.local/lib/python3.7/site-packages/statsmodels/tsa/base/tsa_model.py:595: ValueWarning: A date index has been provided, but it has no associated frequency information and so will be ignored when e.g. forecasting.\n",
      "  ' ignored when e.g. forecasting.', ValueWarning)\n"
     ]
    },
    {
     "name": "stdout",
     "output_type": "stream",
     "text": [
      "Forecasting...\n"
     ]
    },
    {
     "name": "stderr",
     "output_type": "stream",
     "text": [
      "/home/bm7/.local/lib/python3.7/site-packages/statsmodels/tsa/base/tsa_model.py:393: ValueWarning: No supported index is available. Prediction results will be given with an integer index beginning at `start`.\n",
      "  ValueWarning)\n"
     ]
    },
    {
     "name": "stdout",
     "output_type": "stream",
     "text": [
      "Downloading...\n",
      "Preprocessing...\n",
      "Fitting the model\n"
     ]
    },
    {
     "name": "stderr",
     "output_type": "stream",
     "text": [
      "/home/bm7/.local/lib/python3.7/site-packages/ipykernel_launcher.py:26: FutureWarning: the 'damped' keyword is deprecated, use 'damped_trend' instead\n",
      "/home/bm7/.local/lib/python3.7/site-packages/statsmodels/tsa/base/tsa_model.py:595: ValueWarning: A date index has been provided, but it has no associated frequency information and so will be ignored when e.g. forecasting.\n",
      "  ' ignored when e.g. forecasting.', ValueWarning)\n"
     ]
    },
    {
     "name": "stdout",
     "output_type": "stream",
     "text": [
      "Forecasting...\n"
     ]
    },
    {
     "name": "stderr",
     "output_type": "stream",
     "text": [
      "/home/bm7/.local/lib/python3.7/site-packages/statsmodels/tsa/base/tsa_model.py:393: ValueWarning: No supported index is available. Prediction results will be given with an integer index beginning at `start`.\n",
      "  ValueWarning)\n"
     ]
    },
    {
     "name": "stdout",
     "output_type": "stream",
     "text": [
      "Downloading...\n",
      "Preprocessing...\n",
      "Fitting the model\n"
     ]
    },
    {
     "name": "stderr",
     "output_type": "stream",
     "text": [
      "/home/bm7/.local/lib/python3.7/site-packages/ipykernel_launcher.py:26: FutureWarning: the 'damped' keyword is deprecated, use 'damped_trend' instead\n",
      "/home/bm7/.local/lib/python3.7/site-packages/statsmodels/tsa/base/tsa_model.py:595: ValueWarning: A date index has been provided, but it has no associated frequency information and so will be ignored when e.g. forecasting.\n",
      "  ' ignored when e.g. forecasting.', ValueWarning)\n"
     ]
    },
    {
     "name": "stdout",
     "output_type": "stream",
     "text": [
      "Forecasting...\n"
     ]
    },
    {
     "name": "stderr",
     "output_type": "stream",
     "text": [
      "/home/bm7/.local/lib/python3.7/site-packages/statsmodels/tsa/base/tsa_model.py:393: ValueWarning: No supported index is available. Prediction results will be given with an integer index beginning at `start`.\n",
      "  ValueWarning)\n"
     ]
    },
    {
     "data": {
      "text/plain": [
       "{'Miami': 25.119499873879853,\n",
       " 'New York': 4.249870858046876,\n",
       " 'Las Vegas': 13.920167110588771}"
      ]
     },
     "execution_count": 13,
     "metadata": {},
     "output_type": "execute_result"
    }
   ],
   "source": [
    "# prediction form exponential\n",
    "for town in towns:\n",
    "    expo = temp_prediction(nb_days, towns[town][0], towns[town][1])\n",
    "    results_exponential[str(town)] = (expo - 32) * 5/9\n",
    "    \n",
    "results_exponential"
   ]
  },
  {
   "cell_type": "code",
   "execution_count": 1,
   "id": "55d16a25-0f97-4db6-95f4-0bed57a79197",
   "metadata": {},
   "outputs": [],
   "source": [
    "from Vacation_model import Dataset, Vacation"
   ]
  },
  {
   "cell_type": "code",
   "execution_count": 8,
   "id": "210952cb-974b-4172-be0a-70993549edc3",
   "metadata": {},
   "outputs": [
    {
     "name": "stdout",
     "output_type": "stream",
     "text": [
      "downloading data.....\n",
      "preprocessing.....\n",
      "training.....\n",
      "[74.92428428]\n",
      "downloading data.....\n",
      "preprocessing.....\n",
      "training.....\n",
      "[74.92428428]\n",
      "downloading data.....\n",
      "preprocessing.....\n",
      "training.....\n",
      "[74.92428428]\n"
     ]
    },
    {
     "data": {
      "text/plain": [
       "{'Miami': 74, 'New York': 74, 'Las Vegas': 74}"
      ]
     },
     "execution_count": 8,
     "metadata": {},
     "output_type": "execute_result"
    }
   ],
   "source": [
    "for town in towns:\n",
    "    vacation = Vacation()\n",
    "    d = Dataset()\n",
    "    print(\"downloading data.....\")\n",
    "    d = d.download(town, \"temp\")\n",
    "    print(\"preprocessing.....\")\n",
    "    ts = vacation.get_timeseries(d, 2001, 2022, \"02-09\", \"02-10\", 0, 24)\n",
    "    years = vacation.calculate_yearly_value(ts,  metric=\"avg\")\n",
    "    y = np.array(list(years.values()))\n",
    "    X = np.array(list(years.keys())).reshape(-1, 1)\n",
    "    print(\"training.....\")\n",
    "    model = vacation.train(X, y)\n",
    "    result = model.predict([[2022]])\n",
    "    print(result)\n",
    "    results_linear[str(town)] = int(result)\n",
    "    result = 0\n",
    "    \n",
    "results_linear"
   ]
  },
  {
   "cell_type": "code",
   "execution_count": null,
   "id": "c31a3a42-005e-4cad-9920-a97ba7d77b76",
   "metadata": {},
   "outputs": [],
   "source": []
  }
 ],
 "metadata": {
  "kernelspec": {
   "display_name": "Python 3 (ipykernel)",
   "language": "python",
   "name": "python3"
  },
  "language_info": {
   "codemirror_mode": {
    "name": "ipython",
    "version": 3
   },
   "file_extension": ".py",
   "mimetype": "text/x-python",
   "name": "python",
   "nbconvert_exporter": "python",
   "pygments_lexer": "ipython3",
   "version": "3.7.5"
  }
 },
 "nbformat": 4,
 "nbformat_minor": 5
}
