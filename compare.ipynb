{
 "cells": [
  {
   "cell_type": "code",
   "execution_count": 1,
   "id": "8b8b03f5-8eb7-4f8b-ae57-d812b54b3362",
   "metadata": {},
   "outputs": [],
   "source": [
    "from Fetcher import Dataset"
   ]
  },
  {
   "cell_type": "code",
   "execution_count": 2,
   "id": "11915b34-258d-476a-843c-6bc496c6ff1d",
   "metadata": {},
   "outputs": [],
   "source": [
    "d = Dataset()"
   ]
  },
  {
   "cell_type": "code",
   "execution_count": 3,
   "id": "e7f54db4-1166-49ea-a205-dec17182ce0b",
   "metadata": {},
   "outputs": [],
   "source": [
    "res = d.download(\"Miami\", \"wind\")"
   ]
  },
  {
   "cell_type": "code",
   "execution_count": 4,
   "id": "1a39fa1a-70f3-409a-a625-1becbfe83bcf",
   "metadata": {},
   "outputs": [
    {
     "name": "stdout",
     "output_type": "stream",
     "text": [
      "wind/Miami.json Saved.\n"
     ]
    }
   ],
   "source": [
    "d.save(res)"
   ]
  },
  {
   "cell_type": "code",
   "execution_count": null,
   "id": "eeb8fcc2-ac25-4a2c-9908-befbec9cd72d",
   "metadata": {},
   "outputs": [],
   "source": []
  }
 ],
 "metadata": {
  "kernelspec": {
   "display_name": "Python 3 (ipykernel)",
   "language": "python",
   "name": "python3"
  },
  "language_info": {
   "codemirror_mode": {
    "name": "ipython",
    "version": 3
   },
   "file_extension": ".py",
   "mimetype": "text/x-python",
   "name": "python",
   "nbconvert_exporter": "python",
   "pygments_lexer": "ipython3",
   "version": "3.7.5"
  }
 },
 "nbformat": 4,
 "nbformat_minor": 5
}
