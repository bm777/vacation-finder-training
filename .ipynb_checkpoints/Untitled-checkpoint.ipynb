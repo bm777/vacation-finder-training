{
 "cells": [
  {
   "cell_type": "code",
   "execution_count": 14,
   "metadata": {},
   "outputs": [],
   "source": [
    "import json, requests, pandas as pd"
   ]
  },
  {
   "cell_type": "code",
   "execution_count": 2,
   "metadata": {},
   "outputs": [],
   "source": [
    "def get_token() -> str:\n",
    "    \"\"\"\n",
    "    Get a THE TOKEN FROM local storage\n",
    "    Args:\n",
    "        None\n",
    "    \"\"\"\n",
    "    with open(\".token\") as t:\n",
    "        tok = t.readline()\n",
    "    return tok.strip()"
   ]
  },
  {
   "cell_type": "code",
   "execution_count": 3,
   "metadata": {},
   "outputs": [],
   "source": [
    "HEADER = {\n",
    "        #'Content-Type': 'text/csv',\n",
    "        \"Authorization\" : get_token()\n",
    "    }"
   ]
  },
  {
   "cell_type": "code",
   "execution_count": 4,
   "metadata": {},
   "outputs": [],
   "source": [
    "dataset = 'era5_land_wind_u-hourly'"
   ]
  },
  {
   "cell_type": "code",
   "execution_count": 5,
   "metadata": {},
   "outputs": [],
   "source": [
    "lat, long = '25.762329613614614', '-80.19114735100034'"
   ]
  },
  {
   "cell_type": "code",
   "execution_count": 6,
   "metadata": {},
   "outputs": [],
   "source": [
    "query = [\"https://api.dclimate.net/apiv3/grid-history/\"\n",
    "                + dataset + \"/\"\n",
    "                + lat + \"_\" + long +\"?\"\n",
    "                + \"also_return_metadata=false&\"\n",
    "                + \"use_imperial_units=true&\"\n",
    "                + \"also_return_snapped_coordinates=true&\"\n",
    "                + \"convert_to_local_time=true\"]"
   ]
  },
  {
   "cell_type": "code",
   "execution_count": 7,
   "metadata": {},
   "outputs": [],
   "source": [
    "r = requests.get(query[0], headers=HEADER)"
   ]
  },
  {
   "cell_type": "code",
   "execution_count": 34,
   "metadata": {},
   "outputs": [],
   "source": [
    "row_data = r.json()[\"data\"]"
   ]
  },
  {
   "cell_type": "code",
   "execution_count": 74,
   "metadata": {},
   "outputs": [],
   "source": [
    "raws = []"
   ]
  },
  {
   "cell_type": "code",
   "execution_count": null,
   "metadata": {},
   "outputs": [],
   "source": []
  },
  {
   "cell_type": "code",
   "execution_count": 97,
   "metadata": {},
   "outputs": [],
   "source": [
    "for data in row_data:\n",
    "    #raws[data] = row_data[data].split(\" \")[0]\n",
    "    raws.append( { \"data\" : data, \"value\" : row_data[data].split(\" \")[0] } )\n"
   ]
  },
  {
   "cell_type": "code",
   "execution_count": 98,
   "metadata": {},
   "outputs": [],
   "source": [
    "df = pd.DataFrame(raws)"
   ]
  },
  {
   "cell_type": "code",
   "execution_count": 99,
   "metadata": {},
   "outputs": [
    {
     "data": {
      "text/html": [
       "<div>\n",
       "<style scoped>\n",
       "    .dataframe tbody tr th:only-of-type {\n",
       "        vertical-align: middle;\n",
       "    }\n",
       "\n",
       "    .dataframe tbody tr th {\n",
       "        vertical-align: top;\n",
       "    }\n",
       "\n",
       "    .dataframe thead th {\n",
       "        text-align: right;\n",
       "    }\n",
       "</style>\n",
       "<table border=\"1\" class=\"dataframe\">\n",
       "  <thead>\n",
       "    <tr style=\"text-align: right;\">\n",
       "      <th></th>\n",
       "      <th>data</th>\n",
       "      <th>value</th>\n",
       "    </tr>\n",
       "  </thead>\n",
       "  <tbody>\n",
       "    <tr>\n",
       "      <th>0</th>\n",
       "      <td>1989-12-31 19:00:00-05:00</td>\n",
       "      <td>-3.086972083035075 mi / h</td>\n",
       "    </tr>\n",
       "    <tr>\n",
       "      <th>1</th>\n",
       "      <td>1989-12-31 20:00:00-05:00</td>\n",
       "      <td>-2.751431639226915 mi / h</td>\n",
       "    </tr>\n",
       "    <tr>\n",
       "      <th>2</th>\n",
       "      <td>1989-12-31 21:00:00-05:00</td>\n",
       "      <td>-2.661954187544739 mi / h</td>\n",
       "    </tr>\n",
       "    <tr>\n",
       "      <th>3</th>\n",
       "      <td>1989-12-31 22:00:00-05:00</td>\n",
       "      <td>-2.751431639226915 mi / h</td>\n",
       "    </tr>\n",
       "    <tr>\n",
       "      <th>4</th>\n",
       "      <td>1989-12-31 23:00:00-05:00</td>\n",
       "      <td>-2.6843235504652827 mi / h</td>\n",
       "    </tr>\n",
       "    <tr>\n",
       "      <th>...</th>\n",
       "      <td>...</td>\n",
       "      <td>...</td>\n",
       "    </tr>\n",
       "    <tr>\n",
       "      <th>1943083</th>\n",
       "      <td>2021-08-31 15:00:00-04:00</td>\n",
       "      <td>mi</td>\n",
       "    </tr>\n",
       "    <tr>\n",
       "      <th>1943084</th>\n",
       "      <td>2021-08-31 16:00:00-04:00</td>\n",
       "      <td>mi</td>\n",
       "    </tr>\n",
       "    <tr>\n",
       "      <th>1943085</th>\n",
       "      <td>2021-08-31 17:00:00-04:00</td>\n",
       "      <td>mi</td>\n",
       "    </tr>\n",
       "    <tr>\n",
       "      <th>1943086</th>\n",
       "      <td>2021-08-31 18:00:00-04:00</td>\n",
       "      <td>mi</td>\n",
       "    </tr>\n",
       "    <tr>\n",
       "      <th>1943087</th>\n",
       "      <td>2021-08-31 19:00:00-04:00</td>\n",
       "      <td>mi</td>\n",
       "    </tr>\n",
       "  </tbody>\n",
       "</table>\n",
       "<p>1943088 rows × 2 columns</p>\n",
       "</div>"
      ],
      "text/plain": [
       "                              data                       value\n",
       "0        1989-12-31 19:00:00-05:00   -3.086972083035075 mi / h\n",
       "1        1989-12-31 20:00:00-05:00   -2.751431639226915 mi / h\n",
       "2        1989-12-31 21:00:00-05:00   -2.661954187544739 mi / h\n",
       "3        1989-12-31 22:00:00-05:00   -2.751431639226915 mi / h\n",
       "4        1989-12-31 23:00:00-05:00  -2.6843235504652827 mi / h\n",
       "...                            ...                         ...\n",
       "1943083  2021-08-31 15:00:00-04:00                          mi\n",
       "1943084  2021-08-31 16:00:00-04:00                          mi\n",
       "1943085  2021-08-31 17:00:00-04:00                          mi\n",
       "1943086  2021-08-31 18:00:00-04:00                          mi\n",
       "1943087  2021-08-31 19:00:00-04:00                          mi\n",
       "\n",
       "[1943088 rows x 2 columns]"
      ]
     },
     "execution_count": 99,
     "metadata": {},
     "output_type": "execute_result"
    }
   ],
   "source": [
    "df"
   ]
  },
  {
   "cell_type": "code",
   "execution_count": 95,
   "metadata": {},
   "outputs": [],
   "source": [
    "df.to_csv(\"json/\"+dataset+dataset+\"-\"+lat+\"_\"+long+\".csv\")"
   ]
  },
  {
   "cell_type": "code",
   "execution_count": null,
   "metadata": {},
   "outputs": [],
   "source": []
  }
 ],
 "metadata": {
  "kernelspec": {
   "display_name": "Python 3",
   "language": "python",
   "name": "python3"
  },
  "language_info": {
   "codemirror_mode": {
    "name": "ipython",
    "version": 3
   },
   "file_extension": ".py",
   "mimetype": "text/x-python",
   "name": "python",
   "nbconvert_exporter": "python",
   "pygments_lexer": "ipython3",
   "version": "3.6.9"
  }
 },
 "nbformat": 4,
 "nbformat_minor": 4
}
