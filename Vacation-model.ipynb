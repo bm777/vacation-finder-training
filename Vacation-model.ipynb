{
 "cells": [
  {
   "cell_type": "markdown",
   "metadata": {},
   "source": [
    "# Import libraries"
   ]
  },
  {
   "cell_type": "code",
   "execution_count": 37,
   "metadata": {},
   "outputs": [],
   "source": [
    "import requests as r\n",
    "import pandas as pd\n",
    "import numpy as np\n",
    "import math\n",
    "from sklearn.linear_model import LinearRegression\n",
    "from joblib import dump, load"
   ]
  },
  {
   "cell_type": "markdown",
   "metadata": {},
   "source": [
    "# Dataset class"
   ]
  },
  {
   "cell_type": "code",
   "execution_count": 53,
   "metadata": {},
   "outputs": [],
   "source": [
    "class Dataset:\n",
    "    def __init__(self):\n",
    "        self.description = \"This is a class which download dataset\"\n",
    "        \n",
    "    def download(self, town, dataset_code):\n",
    "        HEADER = {\n",
    "            \"Authorization\" : self.get_token()\n",
    "        }\n",
    "        lat, lon = self.get_lat_lon(\"Miami\")\n",
    "        if isinstance(self.get_dataset_name(dataset_code), list):\n",
    "            dataset_name0 = self.get_dataset_name(dataset_code)[0]\n",
    "            dataset_name1 = self.get_dataset_name(dataset_code)[1]\n",
    "            \n",
    "            response0 = r.get(f'https://api.dclimate.net/apiv3/grid-history/{dataset_name0}/{lat}_{lon}', headers=HEADER)\n",
    "            response1 = r.get(f'https://api.dclimate.net/apiv3/grid-history/{dataset_name1}/{lat}_{lon}', headers=HEADER)\n",
    "            response = self.get_norme(response0.json(), response1.json())\n",
    "            response['data'] = {k[:-6]:v for k,v in response['data'].items()}\n",
    "            return response\n",
    "        else:\n",
    "            dataset_name = self.get_dataset_name(dataset_code)[0]\n",
    "            response = r.get(f'https://api.dclimate.net/apiv3/grid-history/{dataset_name}/{lat}_{lon}', headers=HEADER)\n",
    "            response = response.json()\n",
    "            response['data'] = {k[:-6]:v for k,v in response['data'].items()}\n",
    "            return response\n",
    "        \n",
    "    def get_lat_lon(self, name):\n",
    "        town = {\n",
    "            \"Miami\": [25.762329613614614, -80.19114735100034],\n",
    "        }\n",
    "        return town[name] if town[name]!= None else None\n",
    "    \n",
    "    def get_dataset_name(self, name):\n",
    "        dataset = {\n",
    "            \"wind\": [\"era5_land_wind_u-hourly\", \"era5_land_wind_v-hourly\"],\n",
    "        }\n",
    "        return dataset[name] if dataset[name]!= None else None\n",
    "    \n",
    "    def get_norme(self, r0, r1): \n",
    "        ret = {'data': {}}\n",
    "        for k,v in r0['data'].items():\n",
    "            ret['data'][k] = f'{math.sqrt(float(v.split()[0])**2 + float(r1[\"data\"][k].split()[0])**2)} {v.split()[1]}'\n",
    "        return ret\n",
    "        \n",
    "    def get_token(self):\n",
    "        \"\"\"\n",
    "        Get a THE TOKEN FROM local storage\n",
    "        Args:\n",
    "            None\n",
    "        \"\"\"\n",
    "        with open(\".token\") as t:\n",
    "            tok = t.readline()\n",
    "        return tok.strip()"
   ]
  },
  {
   "cell_type": "code",
   "execution_count": 54,
   "metadata": {},
   "outputs": [],
   "source": [
    "dataset = Dataset()"
   ]
  },
  {
   "cell_type": "code",
   "execution_count": 55,
   "metadata": {},
   "outputs": [],
   "source": [
    "d = dataset.download(\"Miami\", \"wind\")"
   ]
  },
  {
   "cell_type": "code",
   "execution_count": null,
   "metadata": {},
   "outputs": [],
   "source": []
  },
  {
   "cell_type": "markdown",
   "metadata": {},
   "source": [
    "# Vacation class"
   ]
  },
  {
   "cell_type": "code",
   "execution_count": 57,
   "metadata": {},
   "outputs": [],
   "source": [
    "class Vacation:\n",
    "    \n",
    "    def __init__(self, town=\"Miami\"):\n",
    "        self.description = \"vacation class for training\"\n",
    "        self.town = town\n",
    "        self.dataset_name = \"\"\n",
    "        \n",
    "    def train(self, X, y):\n",
    "        regressor = LinearRegression().fit(X, y)\n",
    "        return regressor\n",
    "    \n",
    "    def save_model(self, model):\n",
    "        dump(model, f'{self.town}-{self.dataset_name}.joblib')\n",
    "        \n",
    "    def load_model(self, filename):\n",
    "        load(filename)\n",
    "        \n",
    "    def calculate_yearly_value(self, timeseries, metric=\"avg\"):\n",
    "        values = {}\n",
    "        \n",
    "        if metric == \"min\": \n",
    "            for k, v in timeseries.items():\n",
    "                if int(k.split(\"-\")[0]) in values:\n",
    "                    if v is not None:\n",
    "                        if values[int(k.split(\"-\")[0])][0] > float(v.split()[0]):\n",
    "                            values[int(k.split(\"-\")[0])] = [float(v.split()[0])]\n",
    "                else:\n",
    "                    if v is not None:\n",
    "                        values[int(k.split(\"-\")[0])] = [float(v.split()[0])]\n",
    "            return values\n",
    "        \n",
    "        if metric == \"max\": \n",
    "            for k, v in timeseries.items():\n",
    "                if int(k.split(\"-\")[0]) in values:\n",
    "                    if v is not None:\n",
    "                        if values[int(k.split(\"-\")[0])][0] < float(v.split()[0]):\n",
    "                            values[int(k.split(\"-\")[0])] = [float(v.split()[0])]\n",
    "                else:\n",
    "                    if v is not None:\n",
    "                        values[int(k.split(\"-\")[0])] = [float(v.split()[0])]\n",
    "            return values\n",
    "        \n",
    "        if metric == \"max\": \n",
    "            for k, v in timeseries.items():\n",
    "                if int(k.split(\"-\")[0]) in values:\n",
    "                    if v is not None:\n",
    "                        if values[int(k.split(\"-\")[0])][0] < float(v.split()[0]):\n",
    "                            values[int(k.split(\"-\")[0])] = [float(v.split()[0])]\n",
    "                else:\n",
    "                    if v is not None:\n",
    "                        values[int(k.split(\"-\")[0])] = [float(v.split()[0])]\n",
    "            return values\n",
    "        \n",
    "        # in case, metric = avg\n",
    "        for k, v in timeseries.items():\n",
    "            if int(k.split(\"-\")[0]) in values:\n",
    "                values[int(k.split(\"-\")[0])] += [float(v.split()[0])]\n",
    "            else:\n",
    "                values[int(k.split(\"-\")[0])] = [float(v.split()[0])]\n",
    "        return {k:sum(v)/len(v) for k,v in values.items()}\n",
    "        \n",
    "\n",
    "    def dt_range(self, start, end):\n",
    "        date_range = pd.date_range(start=start, end=end, freq=\"1H\").to_pydatetime().tolist()\n",
    "        return [f'{str(d).split()[0]}T{str(d).split()[1]}.000Z' for d in date_range][:-1]\n",
    "\n",
    "    def dt_range_to_keys(self, datetime_range):\n",
    "        keys = [d.split(\"T\")[0] +' '+ d.split(\"T\")[1].split(\".\")[0] for d in datetime_range]\n",
    "        return keys\n",
    "\n",
    "    def select_hours(self, datetime_range, start, end):\n",
    "        return [d for d in datetime_range if start <= int(d.split('T')[1].split(\":\")[0]) < end]\n",
    "\n",
    "    def get_timeseries(self, resp, year_start, year_end, day_start, day_end, hour_start, hour_end):\n",
    "        data = resp['data']\n",
    "        #generate timeseries\n",
    "        ts = []\n",
    "        for yr in range(year_start, year_end):\n",
    "            start = f'{yr}-{day_start}'\n",
    "            end = f'{yr}-{day_end}'\n",
    "            ts += self.dt_range_to_keys(self.select_hours(self.dt_range(start, end), hour_start, hour_end))\n",
    "        return {k:v for k,v in data.items() if k.split()[0]+\" \"+k.split()[1].split(\"-\")[0] in ts}\n",
    "        \n",
    "        "
   ]
  },
  {
   "cell_type": "code",
   "execution_count": null,
   "metadata": {},
   "outputs": [],
   "source": []
  },
  {
   "cell_type": "code",
   "execution_count": 58,
   "metadata": {},
   "outputs": [],
   "source": [
    "vacation = Vacation()"
   ]
  },
  {
   "cell_type": "code",
   "execution_count": 61,
   "metadata": {},
   "outputs": [],
   "source": [
    "ts = vacation.get_timeseries(d, 2001, 2022, \"09-01\", \"09-14\", 0, 24)"
   ]
  },
  {
   "cell_type": "code",
   "execution_count": 63,
   "metadata": {},
   "outputs": [],
   "source": [
    "years = vacation.calculate_yearly_value(ts,  metric=\"avg\")"
   ]
  },
  {
   "cell_type": "code",
   "execution_count": 65,
   "metadata": {},
   "outputs": [],
   "source": [
    "y = np.array(list(years.values()))\n",
    "X = np.array(list(years.keys())).reshape(-1, 1)"
   ]
  },
  {
   "cell_type": "code",
   "execution_count": 66,
   "metadata": {},
   "outputs": [],
   "source": [
    "model = vacation.train(X, y)"
   ]
  },
  {
   "cell_type": "code",
   "execution_count": 68,
   "metadata": {},
   "outputs": [
    {
     "data": {
      "text/plain": [
       "(array([-0.02073428]), 50.661671780739276)"
      ]
     },
     "execution_count": 68,
     "metadata": {},
     "output_type": "execute_result"
    }
   ],
   "source": [
    "model.coef_, model.intercept_"
   ]
  },
  {
   "cell_type": "code",
   "execution_count": 69,
   "metadata": {},
   "outputs": [],
   "source": [
    "input_date = [[2022]]"
   ]
  },
  {
   "cell_type": "code",
   "execution_count": 70,
   "metadata": {},
   "outputs": [
    {
     "data": {
      "text/plain": [
       "array([8.73695134])"
      ]
     },
     "execution_count": 70,
     "metadata": {},
     "output_type": "execute_result"
    }
   ],
   "source": [
    "model.predict(input_date)"
   ]
  },
  {
   "cell_type": "code",
   "execution_count": 72,
   "metadata": {},
   "outputs": [],
   "source": [
    "vacation.save_model(model)"
   ]
  },
  {
   "cell_type": "code",
   "execution_count": 24,
   "metadata": {},
   "outputs": [],
   "source": []
  },
  {
   "cell_type": "code",
   "execution_count": null,
   "metadata": {},
   "outputs": [],
   "source": []
  },
  {
   "cell_type": "code",
   "execution_count": 43,
   "metadata": {},
   "outputs": [],
   "source": []
  }
 ],
 "metadata": {
  "kernelspec": {
   "display_name": "Python 3 (ipykernel)",
   "language": "python",
   "name": "python3"
  },
  "language_info": {
   "codemirror_mode": {
    "name": "ipython",
    "version": 3
   },
   "file_extension": ".py",
   "mimetype": "text/x-python",
   "name": "python",
   "nbconvert_exporter": "python",
   "pygments_lexer": "ipython3",
   "version": "3.7.5"
  }
 },
 "nbformat": 4,
 "nbformat_minor": 4
}
